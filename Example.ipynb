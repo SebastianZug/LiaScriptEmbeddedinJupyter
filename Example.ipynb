{
 "cells": [
  {
   "cell_type": "code",
   "execution_count": 4,
   "metadata": {
    "ExecuteTime": {
     "end_time": "2020-12-18T17:48:03.652374Z",
     "start_time": "2020-12-18T17:48:03.649603Z"
    }
   },
   "outputs": [],
   "source": [
    "from IPython.display import IFrame\n",
    "width=800   #globale Größendefinitionen\n",
    "height=650\n",
    "liaScriptURL=\"https://liascript.github.io/course/?\""
   ]
  },
  {
   "cell_type": "markdown",
   "metadata": {},
   "source": [
    "# LiaScript meets Jupyter Notebooks\n",
    "\n",
    "Grundsätzlich können LiaScript Dokumente in Ergänzung zu den Markdown-Fähigkeiten von Jupyter Notebooks wertvolle Dienste leisten. \n",
    "\n",
    "Die Einbettung erfolgt als IFrame mit \n",
    "\n",
    "```python\n",
    "IFrame(liaScriptURL + 'KursURL', width=700, height=550)\n",
    "```\n",
    "\n",
    "Es empfielt sich, wie in der oberen Zelle gezeigt, die Höhe und die Breite als globale Variablen zu spezifizieren, so dass eine generelle Anpassung vollzogen werden kann. \n",
    "\n",
    "Die jeweiligen LiaScript-Dokumente sind im GitHub-Ordner des Beispiels verfügbar und illustrieren die Möglichkeiten. \n",
    "\n",
    "https://github.com/SebastianZug/LiaScriptEmbeddedinJupyter\n",
    "\n",
    "## Präsentationsformat\n",
    "\n",
    "LiaScript unterscheidet 3 Präsentationsformen. Hier wollen wir uns ein Beispiel für die Vortragsmodus anschauen. Dazu sollte rechts oben im IFrame ein Ohrsymbol sichtbar sein. Klicken Sie ggf. darauf um dies zu konfigurieren.\n",
    "\n",
    "Den zugehörigen Code finden Sie unter https://raw.githubusercontent.com/SebastianZug/LiaScriptEmbeddedinJupyter/main/TextToSpeech.md."
   ]
  },
  {
   "cell_type": "code",
   "execution_count": 10,
   "metadata": {},
   "outputs": [
    {
     "data": {
      "text/html": [
       "\n",
       "        <iframe\n",
       "            width=\"800\"\n",
       "            height=\"650\"\n",
       "            src=\"https://liascript.github.io/course/?https://raw.githubusercontent.com/SebastianZug/LiaScriptEmbeddedinJupyter/main/TextToSpeech.md#1\"\n",
       "            frameborder=\"0\"\n",
       "            allowfullscreen\n",
       "        ></iframe>\n",
       "        "
      ],
      "text/plain": [
       "<IPython.lib.display.IFrame at 0x7f9b9c181730>"
      ]
     },
     "execution_count": 10,
     "metadata": {},
     "output_type": "execute_result"
    }
   ],
   "source": [
    "KursURL = 'https://raw.githubusercontent.com/SebastianZug/LiaScriptEmbeddedinJupyter/main/TextToSpeech.md#1'\n",
    "IFrame(liaScriptURL + KursURL, \n",
    "       width=width, height=height)"
   ]
  },
  {
   "cell_type": "markdown",
   "metadata": {
    "ExecuteTime": {
     "end_time": "2020-12-18T17:14:54.490782Z",
     "start_time": "2020-12-18T17:14:54.472818Z"
    }
   },
   "source": [
    "## Tabellen \n",
    "\n",
    "Die Verwendung tabellenartigen Strukturen ist im integrierten Markdown-Interpreter in den Jupyter-Notebooks sehr einfach.\n",
    "\n",
    "| Animal          | weight in kg | Lifespan years | Mitogen |\n",
    "| --------------- | ------------:| --------------:| -------:|\n",
    "| Mouse           |        0.028 |             02 |      95 |\n",
    "| Flying squirrel |        0.085 |             15 |      50 |\n",
    "| Brown bat       |        0.020 |             30 |      10 |\n",
    "| Sheep           |           90 |             12 |      95 |\n",
    "| Human           |           68 |             70 |      10 |\n",
    "\n",
    "Die Verwendung von LiaScript eröffnet aber die Möglichkeit diese interaktiv werden zu lassen und den Wechsel zu einer automatisierten grafischen Darstellung. \n",
    "\n",
    "+ Sortieren Sie die Einträge mit der Auswahlfunktion im Spaltenkopf entsprechen einem Kriterium.\n",
    "+ Klicken Sie auf die stilisierten grauen Balken über der Tabelle, um die automatisch als Barplot generierte Darstellung zu aktivieren. \n",
    "\n",
    "https://github.com/SebastianZug/LiaScriptEmbeddedinJupyter/blob/main/Tabellen.md"
   ]
  },
  {
   "cell_type": "markdown",
   "metadata": {},
   "source": [
    "\n",
    " "
   ]
  },
  {
   "cell_type": "code",
   "execution_count": 11,
   "metadata": {
    "ExecuteTime": {
     "end_time": "2020-12-18T17:48:05.422590Z",
     "start_time": "2020-12-18T17:48:05.413563Z"
    }
   },
   "outputs": [
    {
     "data": {
      "text/html": [
       "\n",
       "        <iframe\n",
       "            width=\"800\"\n",
       "            height=\"650\"\n",
       "            src=\"https://liascript.github.io/course/?https://raw.githubusercontent.com/SebastianZug/LiaScriptEmbeddedinJupyter/main/Tabellen.md#1\"\n",
       "            frameborder=\"0\"\n",
       "            allowfullscreen\n",
       "        ></iframe>\n",
       "        "
      ],
      "text/plain": [
       "<IPython.lib.display.IFrame at 0x7f9b9c181940>"
      ]
     },
     "execution_count": 11,
     "metadata": {},
     "output_type": "execute_result"
    }
   ],
   "source": [
    "KursURL = 'https://raw.githubusercontent.com/SebastianZug/LiaScriptEmbeddedinJupyter/main/Tabellen.md#1'\n",
    "IFrame(liaScriptURL + KursURL, \n",
    "       width=width, height=height)"
   ]
  },
  {
   "cell_type": "markdown",
   "metadata": {
    "ExecuteTime": {
     "end_time": "2020-12-18T17:47:14.713104Z",
     "start_time": "2020-12-18T17:47:14.706980Z"
    }
   },
   "source": [
    "## Quizze\n",
    "\n",
    "https://raw.githubusercontent.com/SebastianZug/LiaScriptEmbeddedinJupyter/main/Quizze.md"
   ]
  },
  {
   "cell_type": "code",
   "execution_count": 6,
   "metadata": {
    "ExecuteTime": {
     "end_time": "2020-12-18T17:59:54.657352Z",
     "start_time": "2020-12-18T17:59:54.653950Z"
    }
   },
   "outputs": [
    {
     "data": {
      "text/html": [
       "\n",
       "        <iframe\n",
       "            width=\"800\"\n",
       "            height=\"650\"\n",
       "            src=\"https://liascript.github.io/course/?https://raw.githubusercontent.com/SebastianZug/LiaScriptEmbeddedinJupyter/main/Quizze.md#1\"\n",
       "            frameborder=\"0\"\n",
       "            allowfullscreen\n",
       "        ></iframe>\n",
       "        "
      ],
      "text/plain": [
       "<IPython.lib.display.IFrame at 0x7f9b9c1812b0>"
      ]
     },
     "execution_count": 6,
     "metadata": {},
     "output_type": "execute_result"
    }
   ],
   "source": [
    "KursURL = 'https://raw.githubusercontent.com/SebastianZug/LiaScriptEmbeddedinJupyter/main/Quizze.md#1'\n",
    "IFrame(liaScriptURL + KursURL, \n",
    "       width=width, height=height)"
   ]
  },
  {
   "cell_type": "markdown",
   "metadata": {},
   "source": [
    "## Grafische Darstellungen\n",
    "\n",
    "Grafiken unterstützen den Lernprozess signifikant. Allerdings ist es aufwändig, ein extern erzeugte Grafik anzupassen. Jupyter-Notebooks haben noch keine Möglichkeit aus einem Text heraus generierte Grafiken zu rendern. \n",
    "\n",
    "PlantUML [Link](https://plantuml.com/de/) erlaubt die Generierung von aufwändigen Darstellungen aus einer Beschreibungsdatei. So generieren die Zeilen\n",
    "\n",
    "```\n",
    "@startuml\n",
    "Alice -> \"Bob()\" : Hello\n",
    "\"Bob()\" -> \"This is very\\nlong\" as Long\n",
    "' You can also declare:\n",
    "' \"Bob()\" -> Long as \"This is very\\nlong\"\n",
    "Long --> \"Bob()\" : ok\n",
    "@enduml\n",
    "```\n",
    "\n",
    "ein Sequenzdiagramm, dass logische Abläufe visualisiert. \n",
    "\n",
    "![Alt-Text](https://s.plantuml.com/imgw/img-c2f1dd6e7a6f41d6af689098a7a47cbb.webp)\n",
    "\n",
    "\n",
    "\n",
    "\n",
    "LiaScript unterstützt verschiedene Varianten davon. Klicken Sie sich mit den Navigationspfeilen durch die Beispiele.\n",
    "\n",
    "https://raw.githubusercontent.com/SebastianZug/LiaScriptEmbeddedinJupyter/main/Grafik.md"
   ]
  },
  {
   "cell_type": "code",
   "execution_count": 12,
   "metadata": {},
   "outputs": [
    {
     "data": {
      "text/html": [
       "\n",
       "        <iframe\n",
       "            width=\"800\"\n",
       "            height=\"650\"\n",
       "            src=\"https://liascript.github.io/course/?https://raw.githubusercontent.com/SebastianZug/LiaScriptEmbeddedinJupyter/main/Grafik.md#1\"\n",
       "            frameborder=\"0\"\n",
       "            allowfullscreen\n",
       "        ></iframe>\n",
       "        "
      ],
      "text/plain": [
       "<IPython.lib.display.IFrame at 0x7f9b9c181b20>"
      ]
     },
     "execution_count": 12,
     "metadata": {},
     "output_type": "execute_result"
    }
   ],
   "source": [
    "KursURL = 'https://raw.githubusercontent.com/SebastianZug/LiaScriptEmbeddedinJupyter/main/Grafik.md#1'\n",
    "IFrame(liaScriptURL + KursURL, \n",
    "       width=width, height=height)"
   ]
  },
  {
   "cell_type": "markdown",
   "metadata": {},
   "source": [
    "## Kontakt\n",
    "\n",
    "Haben wir Sie neugierig gemacht? Weitere Informationen finden Sie unter der Projektwebseite\n",
    "\n",
    "https://liascript.github.io/\n",
    "\n",
    "Fragen gern an ...\n",
    "\n",
    "+ Dr. Andrè Dietrich - andre.dietrich@informatik.tu-freiberg.de\n",
    "+ Prof. Dr. Sebastian Zug - sebastian.zug@informatik.tu-freiberg.de "
   ]
  },
  {
   "cell_type": "code",
   "execution_count": null,
   "metadata": {},
   "outputs": [],
   "source": []
  }
 ],
 "metadata": {
  "kernelspec": {
   "display_name": "Python 3",
   "language": "python",
   "name": "python3"
  },
  "language_info": {
   "codemirror_mode": {
    "name": "ipython",
    "version": 3
   },
   "file_extension": ".py",
   "mimetype": "text/x-python",
   "name": "python",
   "nbconvert_exporter": "python",
   "pygments_lexer": "ipython3",
   "version": "3.8.5"
  },
  "toc": {
   "base_numbering": 1,
   "nav_menu": {},
   "number_sections": true,
   "sideBar": true,
   "skip_h1_title": false,
   "title_cell": "Table of Contents",
   "title_sidebar": "Contents",
   "toc_cell": false,
   "toc_position": {},
   "toc_section_display": true,
   "toc_window_display": false
  },
  "varInspector": {
   "cols": {
    "lenName": 16,
    "lenType": 16,
    "lenVar": 40
   },
   "kernels_config": {
    "python": {
     "delete_cmd_postfix": "",
     "delete_cmd_prefix": "del ",
     "library": "var_list.py",
     "varRefreshCmd": "print(var_dic_list())"
    },
    "r": {
     "delete_cmd_postfix": ") ",
     "delete_cmd_prefix": "rm(",
     "library": "var_list.r",
     "varRefreshCmd": "cat(var_dic_list()) "
    }
   },
   "types_to_exclude": [
    "module",
    "function",
    "builtin_function_or_method",
    "instance",
    "_Feature"
   ],
   "window_display": false
  }
 },
 "nbformat": 4,
 "nbformat_minor": 2
}
