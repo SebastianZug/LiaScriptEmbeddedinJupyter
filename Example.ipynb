{
 "cells": [
  {
   "cell_type": "code",
   "execution_count": 22,
   "metadata": {
    "ExecuteTime": {
     "end_time": "2020-12-18T17:29:34.383070Z",
     "start_time": "2020-12-18T17:29:34.380497Z"
    }
   },
   "outputs": [],
   "source": [
    "from IPython.display import IFrame\n",
    "width=700   #globale Größendefinitionen\n",
    "height=550\n",
    "liaScriptURL=\"https://liascript.github.io/course/?\""
   ]
  },
  {
   "cell_type": "markdown",
   "metadata": {},
   "source": [
    "# LiaScript meets Jupyter Notebooks\n",
    "\n",
    "Grundsätzlich können LiaScript Dokumente in Ergänzung zu den Markdown-Fähigkeiten von Jupyter Notebooks wertvolle Dienste leisten. \n",
    "\n",
    "Die Einbettung erfolgt als IFrame mit \n",
    "\n",
    "```python\n",
    "IFrame(liaScriptURL + 'KursURL', width=700, height=550)\n",
    "```\n",
    "\n",
    "Es empfielt sich, wie in der oberen Zelle gezeigt, die Höhe und die Breite als globale Variablen zu spezifizieren, so dass eine generelle Anpassung vollzogen werden kann. \n",
    "\n",
    "## Präsentationsformat"
   ]
  },
  {
   "cell_type": "markdown",
   "metadata": {
    "ExecuteTime": {
     "end_time": "2020-12-18T17:14:54.490782Z",
     "start_time": "2020-12-18T17:14:54.472818Z"
    }
   },
   "source": [
    "## Tabellen \n",
    "\n",
    "Die Verwendung tabellenartigen Strukturen ist im integrierten Markdown Interpreter in den Notebooks sehr einfach.\n",
    "\n",
    "| Animal          | weight in kg | Lifespan years | Mitogen |\n",
    "| --------------- | ------------:| --------------:| -------:|\n",
    "| Mouse           |        0.028 |             02 |      95 |\n",
    "| Flying squirrel |        0.085 |             15 |      50 |\n",
    "| Brown bat       |        0.020 |             30 |      10 |\n",
    "| Sheep           |           90 |             12 |      95 |\n",
    "| Human           |           68 |             70 |      10 |\n",
    "\n",
    "Die Verwendung von LiaScript eröffnet aber die Möglichkeit diese interaktiv werden zu lassen und den Wechsel zu einer automatisierten grafischen Darstellung. \n",
    "\n",
    "+ Sortieren Sie die Einträge mit der Auswahlfunktion im Spaltenkopf entsprechen einem Kriterium.\n",
    "+ Klicken Sie auf die stilisierten grauen Balken über der Tabelle, um die automatisch als Barplot generierte Darstellung zu aktivieren. "
   ]
  },
  {
   "cell_type": "markdown",
   "metadata": {},
   "source": [
    "\n",
    " "
   ]
  },
  {
   "cell_type": "code",
   "execution_count": 23,
   "metadata": {
    "ExecuteTime": {
     "end_time": "2020-12-18T17:29:37.139437Z",
     "start_time": "2020-12-18T17:29:37.125682Z"
    }
   },
   "outputs": [
    {
     "data": {
      "text/html": [
       "\n",
       "        <iframe\n",
       "            width=\"700\"\n",
       "            height=\"550\"\n",
       "            src=\"https://liascript.github.io/course/?https://raw.githubusercontent.com/SebastianZug/LiaScriptEmbeddedinJupyter/main/Tabellen.md#1\"\n",
       "            frameborder=\"0\"\n",
       "            allowfullscreen\n",
       "        ></iframe>\n",
       "        "
      ],
      "text/plain": [
       "<IPython.lib.display.IFrame at 0x7f26ac08f048>"
      ]
     },
     "execution_count": 23,
     "metadata": {},
     "output_type": "execute_result"
    }
   ],
   "source": [
    "KursURL = 'https://raw.githubusercontent.com/SebastianZug/LiaScriptEmbeddedinJupyter/main/Tabellen.md#1'\n",
    "IFrame(liaScriptURL + KursURL, \n",
    "       width=700, height=550)"
   ]
  },
  {
   "cell_type": "markdown",
   "metadata": {},
   "source": [
    "## Grafische Darstellungen"
   ]
  },
  {
   "cell_type": "code",
   "execution_count": null,
   "metadata": {},
   "outputs": [],
   "source": []
  }
 ],
 "metadata": {
  "kernelspec": {
   "display_name": "Python 3",
   "language": "python",
   "name": "python3"
  },
  "language_info": {
   "codemirror_mode": {
    "name": "ipython",
    "version": 3
   },
   "file_extension": ".py",
   "mimetype": "text/x-python",
   "name": "python",
   "nbconvert_exporter": "python",
   "pygments_lexer": "ipython3",
   "version": "3.6.9"
  },
  "toc": {
   "base_numbering": 1,
   "nav_menu": {},
   "number_sections": true,
   "sideBar": true,
   "skip_h1_title": false,
   "title_cell": "Table of Contents",
   "title_sidebar": "Contents",
   "toc_cell": false,
   "toc_position": {},
   "toc_section_display": true,
   "toc_window_display": false
  },
  "varInspector": {
   "cols": {
    "lenName": 16,
    "lenType": 16,
    "lenVar": 40
   },
   "kernels_config": {
    "python": {
     "delete_cmd_postfix": "",
     "delete_cmd_prefix": "del ",
     "library": "var_list.py",
     "varRefreshCmd": "print(var_dic_list())"
    },
    "r": {
     "delete_cmd_postfix": ") ",
     "delete_cmd_prefix": "rm(",
     "library": "var_list.r",
     "varRefreshCmd": "cat(var_dic_list()) "
    }
   },
   "types_to_exclude": [
    "module",
    "function",
    "builtin_function_or_method",
    "instance",
    "_Feature"
   ],
   "window_display": false
  }
 },
 "nbformat": 4,
 "nbformat_minor": 2
}
